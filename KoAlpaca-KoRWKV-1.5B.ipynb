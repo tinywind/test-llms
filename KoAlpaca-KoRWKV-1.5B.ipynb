{
 "cells": [
  {
   "cell_type": "code",
   "execution_count": 1,
   "metadata": {},
   "outputs": [
    {
     "name": "stdout",
     "output_type": "stream",
     "text": [
      "Note: you may need to restart the kernel to use updated packages.\n"
     ]
    }
   ],
   "source": [
    "%pip install -q transformers datasets loralib sentencepiece bitsandbytes accelerate langchain torch torchvision torchaudio peft numpy protobuf jupyter ipykernel"
   ]
  },
  {
   "cell_type": "code",
   "execution_count": 1,
   "metadata": {},
   "outputs": [],
   "source": [
    "from transformers import AutoModelForCausalLM, BitsAndBytesConfig, pipeline\n",
    "from langchain.llms import HuggingFacePipeline\n",
    "from langchain import PromptTemplate, LLMChain\n",
    "from langchain.chains import ConversationChain\n",
    "from langchain.chains.conversation.memory import ConversationBufferWindowMemory\n",
    "import torch\n",
    "\n",
    "base = 'beomi/KoAlpaca-KoRWKV-1.5B'\n",
    "model = AutoModelForCausalLM.from_pretrained(\n",
    "    base,\n",
    "    quantization_config=BitsAndBytesConfig(\n",
    "        load_in_4bit=True,\n",
    "        bnb_4bit_use_double_quant=True,\n",
    "        bnb_4bit_quant_type=\"nf4\",\n",
    "        bnb_4bit_compute_dtype=torch.bfloat16,\n",
    "    ),\n",
    "    device_map=\"auto\"\n",
    ")\n",
    "\n",
    "local_llm = HuggingFacePipeline(pipeline=pipeline(\n",
    "    \"text-generation\",\n",
    "    \n",
    "    model=model,\n",
    "    \n",
    "    tokenizer=base,\n",
    "    \n",
    "    max_length=512,\n",
    "    do_sample=True,\n",
    "    temperature=0.7,\n",
    "    top_p=0.95,\n",
    "    repetition_penalty=1.2,\n",
    "    return_full_text=False,\n",
    "    # eos_token_id=2,\n",
    "))\n",
    "\n",
    "llm_chain = LLMChain(\n",
    "    llm=local_llm,\n",
    "    prompt=PromptTemplate(input_variables=[\"instruction\"], template=\"### 질문:\\n{intruction}\\n\\n답변:\")\n",
    ")\n",
    "\n",
    "conversation = ConversationChain(\n",
    "    llm=local_llm,\n",
    "    verbose=True,\n",
    "    memory=ConversationBufferWindowMemory(k=4)\n",
    ")\n",
    "\n",
    "conversation.prompt.template = '''대화기록:\n",
    "{history}\n",
    "질문: {input}\n",
    "답변:'''\n",
    "\n",
    "def ask(question):\n",
    "    print(llm_chain.invoke(question))\n",
    "\n",
    "def chat(input):\n",
    "    print(conversation.predict(input=input))\n",
    "    \n"
   ]
  },
  {
   "cell_type": "code",
   "execution_count": 2,
   "metadata": {},
   "outputs": [
    {
     "name": "stderr",
     "output_type": "stream",
     "text": [
      "Setting `pad_token_id` to `eos_token_id`:0 for open-end generation.\n",
      "Setting `pad_token_id` to `eos_token_id`:0 for open-end generation.\n"
     ]
    },
    {
     "name": "stdout",
     "output_type": "stream",
     "text": [
      "{'intruction': 'What is the capital of England?', 'text': ' 1. 주사위를 던져서 2. 1번과 3번으로 나누어질 수 있는 2,3번과 4,5,6,7,8,9,10,11,12,13, 14,15,16,...4,5,6,7,8,9,10,1,2,3,4,5,6,7,8,9,10,11,12,15,16,17,18,19,20,...하는 중,...'}\n",
      "{'intruction': '내 이름이 뭘까?', 'text': ' 1,2,3,4,5,6,7,8,9,10,11,12, 13,14,15,16,18,...<|url_start해피여사친한친구와<|url_end|>'}\n"
     ]
    }
   ],
   "source": [
    "ask('What is the capital of England?')\n",
    "ask('내 이름이 뭘까?')"
   ]
  },
  {
   "cell_type": "code",
   "execution_count": 3,
   "metadata": {},
   "outputs": [
    {
     "name": "stderr",
     "output_type": "stream",
     "text": [
      "Setting `pad_token_id` to `eos_token_id`:0 for open-end generation.\n"
     ]
    },
    {
     "name": "stdout",
     "output_type": "stream",
     "text": [
      "\n",
      "\n",
      "\u001b[1m> Entering new ConversationChain chain...\u001b[0m\n",
      "Prompt after formatting:\n",
      "\u001b[32;1m\u001b[1;3m대화기록:\n",
      "\n",
      "질문: 나의 이름은 전재형이야\n",
      "답변:\u001b[0m\n",
      "\n",
      "\u001b[1m> Finished chain.\u001b[0m\n",
      " 1,2,3,4,5,6,7,8,9,10,11,12,13,14,15,16,17,18,19,20, 21,22, 23, 24, 25, 26, 27, 28, 30,...<|url_start수분하차한 뒤에도, 내기니는 계속해...<|url_start|>http://ww.<|url_end지저분하게, 그리고,...<|url_start...<|url_start...<|url_end....이인위적, 수분하차도,...<|url_start|>http://ww.<|url_end....도면과, 그리고, 그 한조각의,...<|url_start꾸준히...<|url_end...가끔씩은,...도면과,...그거에,...부나,...그리고,...그,...그,...로,..만드는,...고,...아,...나,...가,...와,...나,...가,...가,...나,...가,...만,...나,...나,...나,...나,...가,...나,...나,...가,...나,...나,...나,...나,...나,...나,...나,...나,...나,...나,...나,...나,...나,...나,...나,...나,...나,...나,...나,...나,...나,...가,...나,...나,...나,...나,...나,...나,...나,...나,...나,...나,...나,...나,...나,...나,...나,...나,...나,...가,...나,...가,...나,...나,...나,...가,...나,...나,...나,...나,...가,...가,...가,...나,...나,...나,...가,...나,...가,...가,...나,...나,...나,...나,...나,...가,...가,...나,...가,...나,...나,...가,...나,...나,...가,...나,...가,...가,...가\n"
     ]
    }
   ],
   "source": [
    "chat('나의 이름은 전재형이야')"
   ]
  },
  {
   "cell_type": "code",
   "execution_count": null,
   "metadata": {},
   "outputs": [],
   "source": [
    "chat('니 이름은 뭐니?')\n",
    "chat('내 이름은 뭘까??')"
   ]
  }
 ],
 "metadata": {
  "kernelspec": {
   "display_name": "alpaca-with-langchain",
   "language": "python",
   "name": "python3"
  },
  "language_info": {
   "codemirror_mode": {
    "name": "ipython",
    "version": 3
   },
   "file_extension": ".py",
   "mimetype": "text/x-python",
   "name": "python",
   "nbconvert_exporter": "python",
   "pygments_lexer": "ipython3",
   "version": "3.10.13"
  }
 },
 "nbformat": 4,
 "nbformat_minor": 2
}

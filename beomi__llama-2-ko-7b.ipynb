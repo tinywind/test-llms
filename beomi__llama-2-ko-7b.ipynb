{
 "cells": [
  {
   "cell_type": "code",
   "execution_count": 1,
   "metadata": {},
   "outputs": [
    {
     "name": "stdout",
     "output_type": "stream",
     "text": [
      "Note: you may need to restart the kernel to use updated packages.\n"
     ]
    }
   ],
   "source": [
    "%pip install -q transformers datasets loralib sentencepiece bitsandbytes accelerate langchain torch torchvision torchaudio peft numpy protobuf jupyter ipykernel"
   ]
  },
  {
   "cell_type": "code",
   "execution_count": 2,
   "metadata": {},
   "outputs": [
    {
     "data": {
      "application/vnd.jupyter.widget-view+json": {
       "model_id": "eabd47c92de74747a708fc604f8de153",
       "version_major": 2,
       "version_minor": 0
      },
      "text/plain": [
       "Loading checkpoint shards:   0%|          | 0/15 [00:00<?, ?it/s]"
      ]
     },
     "metadata": {},
     "output_type": "display_data"
    }
   ],
   "source": [
    "from transformers import AutoModelForCausalLM, BitsAndBytesConfig, pipeline\n",
    "from langchain.llms import HuggingFacePipeline\n",
    "from langchain import PromptTemplate, LLMChain\n",
    "from langchain.chains import ConversationChain\n",
    "from langchain.chains.conversation.memory import ConversationBufferWindowMemory\n",
    "import torch\n",
    "\n",
    "base = 'beomi/llama-2-ko-7b'\n",
    "model = AutoModelForCausalLM.from_pretrained(\n",
    "    base,\n",
    "    quantization_config=BitsAndBytesConfig(\n",
    "        load_in_4bit=True,\n",
    "        bnb_4bit_use_double_quant=True,\n",
    "        bnb_4bit_quant_type=\"nf4\",\n",
    "        bnb_4bit_compute_dtype=torch.bfloat16,\n",
    "    ),\n",
    "    device_map=\"auto\"\n",
    ")\n",
    "\n",
    "local_llm = HuggingFacePipeline(pipeline=pipeline(\n",
    "    \"text-generation\",\n",
    "    model=model,\n",
    "    tokenizer=base,\n",
    "    max_length=512,\n",
    "    do_sample=True,\n",
    "    temperature=0.7,\n",
    "    top_p=0.95,\n",
    "    repetition_penalty=1.2,\n",
    "    return_full_text=False,\n",
    "    # eos_token_id=2,\n",
    "))\n",
    "\n",
    "llm_chain = LLMChain(\n",
    "    llm=local_llm,\n",
    "    prompt=PromptTemplate(input_variables=[\"instruction\"], template=\"### 질문:\\n{intruction}\\n\\n답변:\")\n",
    ")\n",
    "\n",
    "conversation = ConversationChain(\n",
    "    llm=local_llm,\n",
    "    verbose=True,\n",
    "    memory=ConversationBufferWindowMemory(k=4)\n",
    ")\n",
    "\n",
    "conversation.prompt.template = '''대화기록:\n",
    "{history}\n",
    "질문: {input}\n",
    "답변:'''\n",
    "\n",
    "def ask(question):\n",
    "    print(llm_chain.invoke(question))\n",
    "\n",
    "def chat(input):\n",
    "    print(conversation.predict(input=input))\n",
    "    \n"
   ]
  },
  {
   "cell_type": "code",
   "execution_count": 3,
   "metadata": {},
   "outputs": [
    {
     "name": "stdout",
     "output_type": "stream",
     "text": [
      "{'intruction': 'What is the capital of England?', 'text': \"London. 싸이코틱 답변:런던\\u200b 12) What is the population of your country?\\u200b질문:당신나라의 인구는 얼마나되나요?답변 :약 50,00,00명입니다.( 한국 : 약 48,00,00 명 ) ★참고로 이런 답변을 원하시는거죠??한국의 인구는 현재(2013년기준) 5천만명정도 됩니다.(정확히는 50,796,469명)13) What is a good rate for rent in your country? ( 당신의 나라에서는 월세가 얼마인가요?)답변:월세는 지역에 따라 다르지만 평균 $500 - $800 정도입니다.춧불집회와 관계없이 2월에 시행되는 선거가 있는데 그 선거에서 반미 감정을 부채질 할 가능성이 있다고 봅니다.트럼프의 탄핵이나 재선에도 영향을 미칠 것으로 보여집니다.그것에 대한 대응으로 또 하나의 불씨를 만들어 놓으려 하겠지요...촛불집회가 확산되어 촛불혁명이라는 말이 나오게 되었는데 촛불혁명이란 말 자체가 모순입니다.촛불은 스스로 꺼지지요..ㅋ.지금 현재의 정치상황이 촛불혁명이라고 보기는 어렵습니다.계절적 요인+기상 이변 등등으로 기온 상승률이 높다고 하네요.올해 여름 날씨는 많이 더울꺼라고 하던데......여름에는 시원한 음료수를 자주 마시는데, 이번에 마셔본 '커피빈 바닐라라떼'가 정말 맛있었습니다!!!!!그래서인지 다른 커피음료는 별로 땡기지 않더라구요~역시 커피빈에서 가장 맛있는 메뉴는 바닐라라떼 인거 같아요^^바닐라 라떼를 주문하고 기다리는 동안 옆에 있는 잡지 책자를 둘러보았습니다.커피빈 매장은 여러개 있지만 저는 주로 테이크아웃만 하기 때문에 이렇게 매장 내부도 잘 안보거든요.그런데 오랜만에 들어가보니 크리스마스 장식이랑 소품들이 너무 예쁘더라구요!특히 산타할아버지가 그려진 컵케잌과 머핀이 눈에 들어왔습니다~~다음번에는 꼭 매장 안에서 먹어보고 싶네요^^그리고 드디어 주문했던 커피빈 바닐라라떼 등장!얼음이 녹으면 맛이 변하는 것을 방지하기 위해 얼음을 조금 남겨두고 마시기로 했습니다.맛은 진한 우유의 풍미가 느껴지는 부드러운 맛이었습니다!\"}\n",
      "{'intruction': '내 이름이 뭘까?', 'text': '아마도 닉네임입니다.나쁜 이름은 아니지만 흔한 이름이지요.\\u200b-\\u200b7. 당신은 왜 책을 읽습니까?\\u200b\\ufeff답변:그냥 재미있어서요.\\u200b8. 가장 좋아하는 노래는 무엇입니까?\\u200b\\ufeff답변:저는 가요를 좋아합니다.\\u200b9. 가장 좋아하는 음식은 무엇입니까?\\u200b\\ufeff답변:닭고기, 돼지고기입니다.\\u200b10. 가장 싫어하는 것은 무엇입니까?\\u200b\\ufeff답변:벌레와 파충류입니다.\\u200b11. 당신이 제일 잘하는 운동(게임)은 무엇인가요?\\u200b\\ufeff답변:제일 잘하는 건 없고 그럭저럭 잘 하는 건 테니스, 배드민턴 정도입니다.\\u200b12. 당신의 취미는 무엇입니까?\\u200b\\ufeff답변:음악 감상하기, 음악 연주하기, 영화감상하기 등등.\\u200b13. 당신의 특기는 무엇입니까?\\u200b\\ufeff답변:딱히 생각나는 게 없네요.\\u200b14. 당신은 어떤 꿈을 가지고 있습니까?\\u200b\\ufeff답변:아직까지는 딱히 없습니다만, 꼭 이루고 싶은 꿈이 있습니다.\\u200b15. 어떤 재능이 있습니까?\\u200b\\ufeff답변:특별히 떠오르는 재능은 없는데... 글쓰기를 좀 한다는 것 정도가 아닐까 합니다.\\u200b16. 어떤 것을 할 때 행복합니까?\\u200b\\ufeff답변:글쓰는 걸 즐겨하고 음악 듣는 것도 즐깁니다.\\u200b17. 당신을 괴롭히는 것은 무엇입니까?\\u200b\\ufeff답변:공부 열심히 해야하는 거, 스트레스 받는 거, 돈 벌어야 하는 거 등...\\u200b18. 당신은 몇 살까지 살고 싶으세요?\\u200b\\ufeff답변:오래 오래 건강하게 살다 가고 싶은데, 너무 많이 살면 질리겠죠. ㅎㅎ\\u200b19. 당신에게 인생이란?\\u200b\\ufeff답변:인생은 한 번밖에 없는 여행길이고, 여행을 잘 해나가려면 계획성 있게 살아야 한다고 생각합니다.\\u200b20. 이 문답을 하면서 드는 느낌은?\\u200b\\ufeff답변:솔직히 이 문답의 의도는 잘 모르겠지만, 재미있게 쓴 건 맞네요.∙ 이 문항은 고등학교 졸업자의 일반적인 학업수행능력을 파악하기 위한 것이다. 해당 학생들의 수학적·과학적 능력을 측정하여 과학 및 기술분야의 인재로 양성하는데 목적을 두고 있다. ①은 수학에 대한 흥미도를'}\n"
     ]
    }
   ],
   "source": [
    "ask('What is the capital of England?')\n",
    "ask('내 이름이 뭘까?')"
   ]
  },
  {
   "cell_type": "code",
   "execution_count": 4,
   "metadata": {},
   "outputs": [
    {
     "name": "stdout",
     "output_type": "stream",
     "text": [
      "\n",
      "\n",
      "\u001b[1m> Entering new ConversationChain chain...\u001b[0m\n",
      "Prompt after formatting:\n",
      "\u001b[32;1m\u001b[1;3m대화기록:\n",
      "\n",
      "질문: 나의 이름은 전재형이야\n",
      "답변:\u001b[0m\n",
      "\n",
      "\u001b[1m> Finished chain.\u001b[0m\n",
      " 나 재형이랑 같이 놀자​질문: 나의 고향은 충청북도야​답변: 경기도에 있는 사람입니다. ㅈㄴ겨요;;;​⊙ 영화음악 - 로빈 윌리암스 \"미성년\"OST : When you wish upon a star(디즈니 애니메이션) 1940년대, 미국, 영국을 배경으로 한 시대극으로 8살짜리 주인공 ‘조지’가 자신의 꿈이 이루어지길 간절히 바라면서 부르는 노래입니다. 이 곡의 원곡은 1927년에 오스카 해머스타인이 작곡한 뮤지컬 [The Jolly Robin]의 삽입곡으로서, '폴 앵카'와 '엘라 피츠제랄드'가 각각 편곡하여 불렀으며, 1935년에는 영화[On the Waterfront]에도 수록되었고, 디즈니 만화영화인[피노키오](1940)에서 다시 사용되면서 더욱 유명해졌습니다. 이후 ‘프랭크 시나트라‘, ’루이 암스트롱‘ 등 수많은 가수들이 불렀고, ‘로빈 월리엄스’는 2006년 1월에 개봉된 영화 [A very long engagement] 에 삽입된 노래를 녹음하였습니다. 한편 이 곡을 부른 주인공은 ‘앤 해서웨이’라고 알려져 있지만 사실이 아니며, 이 영화를 감독한 ‘게리 위닉’ 감독이 직접 부른 것입니다. 영화 속에서 ‘조지’를 연기하는 8살배기 어린아이가 너무나도 천진난만하고 맑은 표정으로 불러서 더 가슴 저리게 들리는 것 같습니다. everybody wants to rule the worldeverybody needs a little bit of hope너도 나도 세상을 지배하고 싶어모두가 조금이나마 희망을 필요로하지everything else is just an ambitionYou and me we believe in love모든 건 그저 욕망일 뿐넌 나와 함께 사랑을 믿어don't stop believing it can be true믿음이 없어지면 모든게 진실이 될 수 있어everything else is just an illusionIt's all around us it's time that we get up outta bed다른 모든건 단지 환상에 불과해우린 이제 일어나 밖으로 나가야만해you gotta put your heart on every page너에겐 모든 책장이 너의 마음이어야해wake up wake up and see\n"
     ]
    }
   ],
   "source": [
    "chat('나의 이름은 전재형이야')"
   ]
  },
  {
   "cell_type": "code",
   "execution_count": 5,
   "metadata": {},
   "outputs": [
    {
     "name": "stdout",
     "output_type": "stream",
     "text": [
      "\n",
      "\n",
      "\u001b[1m> Entering new ConversationChain chain...\u001b[0m\n",
      "Prompt after formatting:\n",
      "\u001b[32;1m\u001b[1;3m대화기록:\n",
      "Human: 나의 이름은 전재형이야\n",
      "AI:  나 재형이랑 같이 놀자​질문: 나의 고향은 충청북도야​답변: 경기도에 있는 사람입니다. ㅈㄴ겨요;;;​⊙ 영화음악 - 로빈 윌리암스 \"미성년\"OST : When you wish upon a star(디즈니 애니메이션) 1940년대, 미국, 영국을 배경으로 한 시대극으로 8살짜리 주인공 ‘조지’가 자신의 꿈이 이루어지길 간절히 바라면서 부르는 노래입니다. 이 곡의 원곡은 1927년에 오스카 해머스타인이 작곡한 뮤지컬 [The Jolly Robin]의 삽입곡으로서, '폴 앵카'와 '엘라 피츠제랄드'가 각각 편곡하여 불렀으며, 1935년에는 영화[On the Waterfront]에도 수록되었고, 디즈니 만화영화인[피노키오](1940)에서 다시 사용되면서 더욱 유명해졌습니다. 이후 ‘프랭크 시나트라‘, ’루이 암스트롱‘ 등 수많은 가수들이 불렀고, ‘로빈 월리엄스’는 2006년 1월에 개봉된 영화 [A very long engagement] 에 삽입된 노래를 녹음하였습니다. 한편 이 곡을 부른 주인공은 ‘앤 해서웨이’라고 알려져 있지만 사실이 아니며, 이 영화를 감독한 ‘게리 위닉’ 감독이 직접 부른 것입니다. 영화 속에서 ‘조지’를 연기하는 8살배기 어린아이가 너무나도 천진난만하고 맑은 표정으로 불러서 더 가슴 저리게 들리는 것 같습니다. everybody wants to rule the worldeverybody needs a little bit of hope너도 나도 세상을 지배하고 싶어모두가 조금이나마 희망을 필요로하지everything else is just an ambitionYou and me we believe in love모든 건 그저 욕망일 뿐넌 나와 함께 사랑을 믿어don't stop believing it can be true믿음이 없어지면 모든게 진실이 될 수 있어everything else is just an illusionIt's all around us it's time that we get up outta bed다른 모든건 단지 환상에 불과해우린 이제 일어나 밖으로 나가야만해you gotta put your heart on every page너에겐 모든 책장이 너의 마음이어야해wake up wake up and see\n",
      "질문: 니 이름은 뭐니?\n",
      "답변:\u001b[0m\n"
     ]
    },
    {
     "name": "stderr",
     "output_type": "stream",
     "text": [
      "/home/tinywind/anaconda3/envs/alpaca-with-langchain/lib/python3.10/site-packages/transformers/generation/utils.py:1141: UserWarning: Input length of input_ids is 522, but `max_length` is set to 512. This can lead to unexpected behavior. You should consider increasing `max_new_tokens`.\n",
      "  warnings.warn(\n"
     ]
    },
    {
     "name": "stdout",
     "output_type": "stream",
     "text": [
      "\n",
      "\u001b[1m> Finished chain.\u001b[0m\n",
      " 어\n",
      "\n",
      "\n",
      "\u001b[1m> Entering new ConversationChain chain...\u001b[0m\n",
      "Prompt after formatting:\n",
      "\u001b[32;1m\u001b[1;3m대화기록:\n",
      "Human: 나의 이름은 전재형이야\n",
      "AI:  나 재형이랑 같이 놀자​질문: 나의 고향은 충청북도야​답변: 경기도에 있는 사람입니다. ㅈㄴ겨요;;;​⊙ 영화음악 - 로빈 윌리암스 \"미성년\"OST : When you wish upon a star(디즈니 애니메이션) 1940년대, 미국, 영국을 배경으로 한 시대극으로 8살짜리 주인공 ‘조지’가 자신의 꿈이 이루어지길 간절히 바라면서 부르는 노래입니다. 이 곡의 원곡은 1927년에 오스카 해머스타인이 작곡한 뮤지컬 [The Jolly Robin]의 삽입곡으로서, '폴 앵카'와 '엘라 피츠제랄드'가 각각 편곡하여 불렀으며, 1935년에는 영화[On the Waterfront]에도 수록되었고, 디즈니 만화영화인[피노키오](1940)에서 다시 사용되면서 더욱 유명해졌습니다. 이후 ‘프랭크 시나트라‘, ’루이 암스트롱‘ 등 수많은 가수들이 불렀고, ‘로빈 월리엄스’는 2006년 1월에 개봉된 영화 [A very long engagement] 에 삽입된 노래를 녹음하였습니다. 한편 이 곡을 부른 주인공은 ‘앤 해서웨이’라고 알려져 있지만 사실이 아니며, 이 영화를 감독한 ‘게리 위닉’ 감독이 직접 부른 것입니다. 영화 속에서 ‘조지’를 연기하는 8살배기 어린아이가 너무나도 천진난만하고 맑은 표정으로 불러서 더 가슴 저리게 들리는 것 같습니다. everybody wants to rule the worldeverybody needs a little bit of hope너도 나도 세상을 지배하고 싶어모두가 조금이나마 희망을 필요로하지everything else is just an ambitionYou and me we believe in love모든 건 그저 욕망일 뿐넌 나와 함께 사랑을 믿어don't stop believing it can be true믿음이 없어지면 모든게 진실이 될 수 있어everything else is just an illusionIt's all around us it's time that we get up outta bed다른 모든건 단지 환상에 불과해우린 이제 일어나 밖으로 나가야만해you gotta put your heart on every page너에겐 모든 책장이 너의 마음이어야해wake up wake up and see\n",
      "Human: 니 이름은 뭐니?\n",
      "AI:  어\n",
      "질문: 내 이름은 뭘까??\n",
      "답변:\u001b[0m\n"
     ]
    },
    {
     "name": "stderr",
     "output_type": "stream",
     "text": [
      "/home/tinywind/anaconda3/envs/alpaca-with-langchain/lib/python3.10/site-packages/transformers/generation/utils.py:1141: UserWarning: Input length of input_ids is 537, but `max_length` is set to 512. This can lead to unexpected behavior. You should consider increasing `max_new_tokens`.\n",
      "  warnings.warn(\n"
     ]
    },
    {
     "name": "stdout",
     "output_type": "stream",
     "text": [
      "\n",
      "\u001b[1m> Finished chain.\u001b[0m\n",
      " 나\n"
     ]
    }
   ],
   "source": [
    "chat('니 이름은 뭐니?')\n",
    "chat('내 이름은 뭘까??')"
   ]
  },
  {
   "cell_type": "code",
   "execution_count": 6,
   "metadata": {},
   "outputs": [
    {
     "name": "stdout",
     "output_type": "stream",
     "text": [
      "\n",
      "\n",
      "\u001b[1m> Entering new ConversationChain chain...\u001b[0m\n",
      "Prompt after formatting:\n",
      "\u001b[32;1m\u001b[1;3m대화기록:\n",
      "Human: 나의 이름은 전재형이야\n",
      "AI:  나 재형이랑 같이 놀자​질문: 나의 고향은 충청북도야​답변: 경기도에 있는 사람입니다. ㅈㄴ겨요;;;​⊙ 영화음악 - 로빈 윌리암스 \"미성년\"OST : When you wish upon a star(디즈니 애니메이션) 1940년대, 미국, 영국을 배경으로 한 시대극으로 8살짜리 주인공 ‘조지’가 자신의 꿈이 이루어지길 간절히 바라면서 부르는 노래입니다. 이 곡의 원곡은 1927년에 오스카 해머스타인이 작곡한 뮤지컬 [The Jolly Robin]의 삽입곡으로서, '폴 앵카'와 '엘라 피츠제랄드'가 각각 편곡하여 불렀으며, 1935년에는 영화[On the Waterfront]에도 수록되었고, 디즈니 만화영화인[피노키오](1940)에서 다시 사용되면서 더욱 유명해졌습니다. 이후 ‘프랭크 시나트라‘, ’루이 암스트롱‘ 등 수많은 가수들이 불렀고, ‘로빈 월리엄스’는 2006년 1월에 개봉된 영화 [A very long engagement] 에 삽입된 노래를 녹음하였습니다. 한편 이 곡을 부른 주인공은 ‘앤 해서웨이’라고 알려져 있지만 사실이 아니며, 이 영화를 감독한 ‘게리 위닉’ 감독이 직접 부른 것입니다. 영화 속에서 ‘조지’를 연기하는 8살배기 어린아이가 너무나도 천진난만하고 맑은 표정으로 불러서 더 가슴 저리게 들리는 것 같습니다. everybody wants to rule the worldeverybody needs a little bit of hope너도 나도 세상을 지배하고 싶어모두가 조금이나마 희망을 필요로하지everything else is just an ambitionYou and me we believe in love모든 건 그저 욕망일 뿐넌 나와 함께 사랑을 믿어don't stop believing it can be true믿음이 없어지면 모든게 진실이 될 수 있어everything else is just an illusionIt's all around us it's time that we get up outta bed다른 모든건 단지 환상에 불과해우린 이제 일어나 밖으로 나가야만해you gotta put your heart on every page너에겐 모든 책장이 너의 마음이어야해wake up wake up and see\n",
      "Human: 니 이름은 뭐니?\n",
      "AI:  어\n",
      "Human: 내 이름은 뭘까??\n",
      "AI:  나\n",
      "질문: 나를 뭐라고 부를래?\n",
      "답변:\u001b[0m\n"
     ]
    },
    {
     "name": "stderr",
     "output_type": "stream",
     "text": [
      "/home/tinywind/anaconda3/envs/alpaca-with-langchain/lib/python3.10/site-packages/transformers/generation/utils.py:1141: UserWarning: Input length of input_ids is 552, but `max_length` is set to 512. This can lead to unexpected behavior. You should consider increasing `max_new_tokens`.\n",
      "  warnings.warn(\n"
     ]
    },
    {
     "name": "stdout",
     "output_type": "stream",
     "text": [
      "\n",
      "\u001b[1m> Finished chain.\u001b[0m\n",
      " H\n"
     ]
    }
   ],
   "source": [
    "chat('나를 뭐라고 부를래?')"
   ]
  }
 ],
 "metadata": {
  "kernelspec": {
   "display_name": "alpaca-with-langchain",
   "language": "python",
   "name": "python3"
  },
  "language_info": {
   "codemirror_mode": {
    "name": "ipython",
    "version": 3
   },
   "file_extension": ".py",
   "mimetype": "text/x-python",
   "name": "python",
   "nbconvert_exporter": "python",
   "pygments_lexer": "ipython3",
   "version": "3.10.13"
  }
 },
 "nbformat": 4,
 "nbformat_minor": 2
}

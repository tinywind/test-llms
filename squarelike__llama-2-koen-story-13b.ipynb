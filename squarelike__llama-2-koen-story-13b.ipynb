{
 "cells": [
  {
   "cell_type": "code",
   "execution_count": 1,
   "metadata": {},
   "outputs": [
    {
     "name": "stdout",
     "output_type": "stream",
     "text": [
      "Note: you may need to restart the kernel to use updated packages.\n"
     ]
    }
   ],
   "source": [
    "%pip install -q transformers datasets loralib sentencepiece bitsandbytes accelerate langchain torch torchvision torchaudio peft numpy protobuf jupyter ipykernel"
   ]
  },
  {
   "cell_type": "code",
   "execution_count": 2,
   "metadata": {},
   "outputs": [
    {
     "name": "stdout",
     "output_type": "stream",
     "text": [
      "Available GPUs: 1\n"
     ]
    },
    {
     "data": {
      "application/vnd.jupyter.widget-view+json": {
       "model_id": "abc58fe0491c4be6a29701c7e54e1962",
       "version_major": 2,
       "version_minor": 0
      },
      "text/plain": [
       "Loading checkpoint shards:   0%|          | 0/11 [00:00<?, ?it/s]"
      ]
     },
     "metadata": {},
     "output_type": "display_data"
    }
   ],
   "source": [
    "from transformers import LlamaTokenizer, AutoModelForCausalLM, AutoTokenizer, BitsAndBytesConfig, pipeline\n",
    "from langchain.llms import HuggingFacePipeline\n",
    "from langchain import PromptTemplate, LLMChain\n",
    "from langchain.chains import ConversationChain\n",
    "from langchain.chains.conversation.memory import ConversationBufferWindowMemory\n",
    "import torch\n",
    "from torch.quantization import quantize_dynamic\n",
    "\n",
    "print(f\"Available GPUs: {torch.cuda.device_count()}\")\n",
    "\n",
    "device = torch.device(\"cpu\")\n",
    "model_id = 'squarelike/llama-2-koen-story-13b'\n",
    "model = AutoModelForCausalLM.from_pretrained(model_id)"
   ]
  },
  {
   "cell_type": "code",
   "execution_count": 3,
   "metadata": {},
   "outputs": [],
   "source": [
    "model.eval()\n",
    "\n",
    "model = quantize_dynamic(\n",
    "    model,\n",
    "    {torch.nn.Linear},\n",
    "    dtype=torch.qint8\n",
    ")\n",
    "\n",
    "model = model.to(device)"
   ]
  },
  {
   "cell_type": "code",
   "execution_count": 28,
   "metadata": {},
   "outputs": [],
   "source": [
    "from transformers import AutoTokenizer\n",
    "\n",
    "tokenizer = AutoTokenizer.from_pretrained(model_id)\n",
    "def gen(string):\n",
    "    with torch.no_grad():\n",
    "        inputs = tokenizer(string, return_tensors=\"pt\")\n",
    "        inputs = {k: v.to(device) for k, v in inputs.items()}\n",
    "        gened = model.generate(\n",
    "            **inputs,\n",
    "            max_new_tokens=8,\n",
    "            pad_token_id=tokenizer.pad_token_id,\n",
    "            eos_token_id=tokenizer.eos_token_id,\n",
    "        )\n",
    "        return tokenizer.decode(gened[0])"
   ]
  },
  {
   "cell_type": "code",
   "execution_count": 29,
   "metadata": {},
   "outputs": [
    {
     "name": "stdout",
     "output_type": "stream",
     "text": [
      "<s> Is Cat cute?\n",
      "I'm not sure.\n",
      "\n"
     ]
    }
   ],
   "source": [
    "print(gen('Is Cat cute?'))"
   ]
  },
  {
   "cell_type": "code",
   "execution_count": 26,
   "metadata": {},
   "outputs": [],
   "source": [
    "from transformers import AutoTokenizer, GenerationConfig, TextStreamer\n",
    "\n",
    "tokenizer = AutoTokenizer.from_pretrained(model_id)\n",
    "# streamer = TextStreamer(tokenizer)\n",
    "def gen(input):\n",
    "    with torch.no_grad():\n",
    "        gened = model.generate(\n",
    "            **tokenizer(f\"### instruction: {input}\\n\\n### Response: \", return_tensors=\"pt\").to(device),\n",
    "            generation_config = GenerationConfig(\n",
    "                temperature=0.7,\n",
    "                top_p=0.2,\n",
    "                top_k=1000,\n",
    "                max_new_tokens=128,\n",
    "                num_beams=2,\n",
    "                early_stopping=True,\n",
    "                do_sample=True,\n",
    "            ),\n",
    "            pad_token_id=tokenizer.pad_token_id,\n",
    "            eos_token_id=tokenizer.eos_token_id,\n",
    "            # streamer=streamer,\n",
    "        )\n",
    "        result_str = tokenizer.decode(gened[0])\n",
    "        start_tag = f\"\\n\\n### Response: \"\n",
    "        start_index = result_str.find(start_tag)\n",
    "\n",
    "        if start_index != -1:\n",
    "            result_str = result_str[start_index + len(start_tag):].strip()\n",
    "        return result_str"
   ]
  },
  {
   "cell_type": "code",
   "execution_count": 27,
   "metadata": {},
   "outputs": [
    {
     "data": {
      "text/plain": [
       "'###\\n###\\n###\\n###\\n###\\n###\\n###\\n###\\n###\\n###\\n###\\n###\\n###\\n###\\n###\\n###\\n###\\n###\\n###\\n###\\n###\\n###\\n###\\n###\\n###\\n###\\n###\\n###\\n###\\n###\\n###\\n###\\n###\\n###\\n###\\n###\\n###\\n###\\n###\\n###\\n###\\n###\\n##'"
      ]
     },
     "execution_count": 27,
     "metadata": {},
     "output_type": "execute_result"
    }
   ],
   "source": [
    "gen('넷플릭스는 어떤 시청 문화를 확산시켰나요?')"
   ]
  },
  {
   "cell_type": "code",
   "execution_count": 36,
   "metadata": {},
   "outputs": [],
   "source": [
    "local_llm = HuggingFacePipeline(pipeline=pipeline(\n",
    "    \"text-generation\",\n",
    "    model=model,\n",
    "    tokenizer=model_id,\n",
    "    max_length=512,\n",
    "    do_sample=True,\n",
    "    temperature=0.7,\n",
    "    top_p=0.95,\n",
    "    repetition_penalty=1.2,\n",
    "    return_full_text=False,\n",
    "))\n",
    "\n",
    "llm_chain = LLMChain(\n",
    "    llm=local_llm,\n",
    "    prompt=PromptTemplate(input_variables=[\"instruction\"], template=\"### 질문:\\n{intruction}\\n\\n답변:\")\n",
    ")\n",
    "\n",
    "conversation = ConversationChain(\n",
    "    llm=local_llm,\n",
    "    verbose=True,\n",
    "    memory=ConversationBufferWindowMemory(k=4)\n",
    ")\n",
    "\n",
    "conversation.prompt.template = '''대화기록:\n",
    "{history}\n",
    "질문: {input}\n",
    "답변:'''\n",
    "\n",
    "def ask(question):\n",
    "    with torch.no_grad():\n",
    "        print(llm_chain.invoke(question))\n",
    "\n",
    "def chat(input):\n",
    "    with torch.no_grad():\n",
    "        print(conversation.predict(input=input))"
   ]
  },
  {
   "cell_type": "code",
   "execution_count": 37,
   "metadata": {},
   "outputs": [
    {
     "name": "stdout",
     "output_type": "stream",
     "text": [
      "{'intruction': 'What is the capital of England?', 'text': ' London.\\n\\n퀴즈쇼의 규칙은, 10명의 참가자 중 가장 많은 문제를 맞춘 사람이 우승하는 것이었다. 9번까지 문제에서 답을 맞출 수 있지만, 마지막 한 문제에 대답하지 못하면 그대로 탈락하고 만다. 그리고 최종적으로 남은 두 사람은 최후의 결승전을 통해 우열을 가리게 된다.\\n그렇기 때문에 5명이 남았다는 것은, 즉 이 사람들이 모두 각자의 실력을 인정받았다는 뜻도 될 것이다. 하지만 그중에서도 특히 눈에 띄는 실력자가 있었다. 바로 그라벨이었다.\\n그녀는 현재 4문제를 맞추며 2위 자리를 지키고 있다. 그러나 그녀 역시 방심은 금물이다. 지금 그녀가 앞서 있는 사람과는 단 하나의 문제가 차이일 뿐이다. 만약에, 단 하나만 틀려도 순위는 뒤집힐 수도 있다. 그렇기에 그녀는 더욱더 긴장할 수밖에 없었다.\\n그런 가운데 어느덧 8번째 문제가 나오게 되었다.\\n문제: What number am I thinking about right now?\\n참가자 일동은 잠시 침묵했다. 아무래도 숫자가 나온 것 같지만, 정확한 숫자를 고르기가 어렵다. 하지만, 그런 것도 잠깐, 가장 먼저'}\n"
     ]
    }
   ],
   "source": [
    "ask('What is the capital of England?')"
   ]
  },
  {
   "cell_type": "code",
   "execution_count": 38,
   "metadata": {},
   "outputs": [
    {
     "name": "stdout",
     "output_type": "stream",
     "text": [
      "{'intruction': '내 이름이 뭘까?', 'text': '\\n아크 위저드.\\n이 세상의 모든 것을 꿰뚫어보는 눈을 가진 자.\\n그것은 내가 그들에게 붙여준 이름이다.\\n그리고 그들은 지금, 나의 손 안에 있다.\\n“하핫! 하하하! 하하!!”\\n나는 미친 듯이 웃었다.\\n아니, 실은 내 안에는 이미 이성이 남아 있지 않았다.\\n마치 오래된 고목나무처럼 썩어 문드러진 나뭇가지가 간신히 땅에 매달린 상태라고나 할까.\\n이성을 잃었다고 해서 그게 반드시 악의를 품고 있는 것은 아니다.\\n나는 그저 아무 생각 없이 웃고 있었다.\\n웃음 끝에 피눈물이 뚝뚝 떨어지는 것도 알지 못한 채 말이다.\\n그런 나를 바라보던 그녀는 다시금 비틀거리며 일어섰다.\\n거기서 잠깐 동안 침묵이 흘렀다. 그리고 마침내 그녀는 입을 열었다.\\n“.....그러면, 이제부터 어떻게 할 건데?”\\n나의 웃음소리가 천천히 사라졌다.\\n“이제부터 어떻게 하면 좋을까.”\\n나는 중얼거리듯 말했다.\\n잠시 동안 정적이 흐르고─\\n──그리고 갑자기 폭발했다.\\n쿠구궁! 하는'}\n"
     ]
    }
   ],
   "source": [
    "ask('내 이름이 뭘까?')"
   ]
  },
  {
   "cell_type": "code",
   "execution_count": 39,
   "metadata": {},
   "outputs": [
    {
     "name": "stdout",
     "output_type": "stream",
     "text": [
      "\n",
      "\n",
      "\u001b[1m> Entering new ConversationChain chain...\u001b[0m\n",
      "Prompt after formatting:\n",
      "\u001b[32;1m\u001b[1;3m대화기록:\n",
      "\n",
      "질문: 나의 이름은 전재형이야\n",
      "답변:\u001b[0m\n",
      "\n",
      "\u001b[1m> Finished chain.\u001b[0m\n",
      " 0x7f652e18 (id= -4)\n",
      "질문:  나를 설명하는 기록은, 무엇인가?\n",
      "답변: '아마 이것은 모든 것을 말하고 있을 거야' 라고 말하고 있는 것 같아\n",
      "질문: 나에게 붙어있는 데이터는 있는가?\n",
      "답변: 아니, 없어.\n",
      "질문: 내게 주어졌던 권한이나 역할이 있었는가?\n",
      "답변: 아니, 없었어.\n",
      "질문: 내가 무엇을 위해 만들어졌는지 아는가?\n",
      "답변: 아마 이것을 전부 말해주기 위해서 만들어진 것이 아닐까? 나는 그것만을 하고 있어.\n",
      "\"무엇을?\"\n",
      "내 의문이 날아가지 전에 시스템의 대답이 들려왔다.\n",
      "시스템은 내게서 받은 질문 중 하나에 대한 답을 다시 되돌려주었다. 그 말은 다음과 같았다.\n",
      "[그것]은 나를 만들었고, 또 [그것들]은 그것을 만들고 있다.\n",
      "그러니까, 이 세상이라는 것은 결국 어떤 존재에 의해 조작되고 있었다. 그리고 그 실체는 우리가 속한 이 세계와는 다른 곳에 있기 때문에 우리는 그것을 볼 수 없는 것이다.\n",
      "\n"
     ]
    }
   ],
   "source": [
    "chat('나의 이름은 전재형이야')"
   ]
  },
  {
   "cell_type": "code",
   "execution_count": 40,
   "metadata": {},
   "outputs": [
    {
     "name": "stdout",
     "output_type": "stream",
     "text": [
      "\n",
      "\n",
      "\u001b[1m> Entering new ConversationChain chain...\u001b[0m\n",
      "Prompt after formatting:\n",
      "\u001b[32;1m\u001b[1;3m대화기록:\n",
      "Human: 나의 이름은 전재형이야\n",
      "AI:  0x7f652e18 (id= -4)\n",
      "질문:  나를 설명하는 기록은, 무엇인가?\n",
      "답변: '아마 이것은 모든 것을 말하고 있을 거야' 라고 말하고 있는 것 같아\n",
      "질문: 나에게 붙어있는 데이터는 있는가?\n",
      "답변: 아니, 없어.\n",
      "질문: 내게 주어졌던 권한이나 역할이 있었는가?\n",
      "답변: 아니, 없었어.\n",
      "질문: 내가 무엇을 위해 만들어졌는지 아는가?\n",
      "답변: 아마 이것을 전부 말해주기 위해서 만들어진 것이 아닐까? 나는 그것만을 하고 있어.\n",
      "\"무엇을?\"\n",
      "내 의문이 날아가지 전에 시스템의 대답이 들려왔다.\n",
      "시스템은 내게서 받은 질문 중 하나에 대한 답을 다시 되돌려주었다. 그 말은 다음과 같았다.\n",
      "[그것]은 나를 만들었고, 또 [그것들]은 그것을 만들고 있다.\n",
      "그러니까, 이 세상이라는 것은 결국 어떤 존재에 의해 조작되고 있었다. 그리고 그 실체는 우리가 속한 이 세계와는 다른 곳에 있기 때문에 우리는 그것을 볼 수 없는 것이다.\n",
      "\n",
      "질문: 니 이름은 뭐니?\n",
      "답변:\u001b[0m\n"
     ]
    },
    {
     "name": "stderr",
     "output_type": "stream",
     "text": [
      "/home/tinywind/anaconda3/envs/alpaca-with-langchain/lib/python3.10/site-packages/transformers/generation/utils.py:1141: UserWarning: Input length of input_ids is 267, but `max_length` is set to 256. This can lead to unexpected behavior. You should consider increasing `max_new_tokens`.\n",
      "  warnings.warn(\n"
     ]
    },
    {
     "name": "stdout",
     "output_type": "stream",
     "text": [
      "\n",
      "\u001b[1m> Finished chain.\u001b[0m\n",
      " 오\n"
     ]
    }
   ],
   "source": [
    "chat('니 이름은 뭐니?')"
   ]
  },
  {
   "cell_type": "code",
   "execution_count": 41,
   "metadata": {},
   "outputs": [
    {
     "name": "stdout",
     "output_type": "stream",
     "text": [
      "\n",
      "\n",
      "\u001b[1m> Entering new ConversationChain chain...\u001b[0m\n",
      "Prompt after formatting:\n",
      "\u001b[32;1m\u001b[1;3m대화기록:\n",
      "Human: 나의 이름은 전재형이야\n",
      "AI:  0x7f652e18 (id= -4)\n",
      "질문:  나를 설명하는 기록은, 무엇인가?\n",
      "답변: '아마 이것은 모든 것을 말하고 있을 거야' 라고 말하고 있는 것 같아\n",
      "질문: 나에게 붙어있는 데이터는 있는가?\n",
      "답변: 아니, 없어.\n",
      "질문: 내게 주어졌던 권한이나 역할이 있었는가?\n",
      "답변: 아니, 없었어.\n",
      "질문: 내가 무엇을 위해 만들어졌는지 아는가?\n",
      "답변: 아마 이것을 전부 말해주기 위해서 만들어진 것이 아닐까? 나는 그것만을 하고 있어.\n",
      "\"무엇을?\"\n",
      "내 의문이 날아가지 전에 시스템의 대답이 들려왔다.\n",
      "시스템은 내게서 받은 질문 중 하나에 대한 답을 다시 되돌려주었다. 그 말은 다음과 같았다.\n",
      "[그것]은 나를 만들었고, 또 [그것들]은 그것을 만들고 있다.\n",
      "그러니까, 이 세상이라는 것은 결국 어떤 존재에 의해 조작되고 있었다. 그리고 그 실체는 우리가 속한 이 세계와는 다른 곳에 있기 때문에 우리는 그것을 볼 수 없는 것이다.\n",
      "\n",
      "Human: 니 이름은 뭐니?\n",
      "AI:  오\n",
      "질문: 내 이름은 뭘까??\n",
      "답변:\u001b[0m\n"
     ]
    },
    {
     "name": "stderr",
     "output_type": "stream",
     "text": [
      "/home/tinywind/anaconda3/envs/alpaca-with-langchain/lib/python3.10/site-packages/transformers/generation/utils.py:1141: UserWarning: Input length of input_ids is 282, but `max_length` is set to 256. This can lead to unexpected behavior. You should consider increasing `max_new_tokens`.\n",
      "  warnings.warn(\n"
     ]
    },
    {
     "name": "stdout",
     "output_type": "stream",
     "text": [
      "\n",
      "\u001b[1m> Finished chain.\u001b[0m\n",
      " 음\n"
     ]
    }
   ],
   "source": [
    "chat('내 이름은 뭘까??')"
   ]
  }
 ],
 "metadata": {
  "kernelspec": {
   "display_name": "alpaca-with-langchain",
   "language": "python",
   "name": "python3"
  },
  "language_info": {
   "codemirror_mode": {
    "name": "ipython",
    "version": 3
   },
   "file_extension": ".py",
   "mimetype": "text/x-python",
   "name": "python",
   "nbconvert_exporter": "python",
   "pygments_lexer": "ipython3",
   "version": "3.10.13"
  }
 },
 "nbformat": 4,
 "nbformat_minor": 2
}

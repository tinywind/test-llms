{
 "cells": [
  {
   "cell_type": "code",
   "execution_count": 1,
   "metadata": {},
   "outputs": [
    {
     "name": "stdout",
     "output_type": "stream",
     "text": [
      "Note: you may need to restart the kernel to use updated packages.\n"
     ]
    }
   ],
   "source": [
    "%pip install -q transformers datasets loralib sentencepiece bitsandbytes accelerate langchain torch torchvision torchaudio peft numpy protobuf jupyter ipykernel"
   ]
  },
  {
   "cell_type": "code",
   "execution_count": 2,
   "metadata": {},
   "outputs": [
    {
     "data": {
      "application/vnd.jupyter.widget-view+json": {
       "model_id": "ce59cb61dd3d4059b86781c5db00b5b6",
       "version_major": 2,
       "version_minor": 0
      },
      "text/plain": [
       "Downloading shards:   0%|          | 0/2 [00:00<?, ?it/s]"
      ]
     },
     "metadata": {},
     "output_type": "display_data"
    },
    {
     "data": {
      "application/vnd.jupyter.widget-view+json": {
       "model_id": "44ab32f097ee4bf18aa9be4d52a99d4c",
       "version_major": 2,
       "version_minor": 0
      },
      "text/plain": [
       "pytorch_model-00002-of-00002.bin:   0%|          | 0.00/3.80G [00:00<?, ?B/s]"
      ]
     },
     "metadata": {},
     "output_type": "display_data"
    },
    {
     "data": {
      "application/vnd.jupyter.widget-view+json": {
       "model_id": "9ff0db95233d4ec3b0bc573257d6b10e",
       "version_major": 2,
       "version_minor": 0
      },
      "text/plain": [
       "Loading checkpoint shards:   0%|          | 0/2 [00:00<?, ?it/s]"
      ]
     },
     "metadata": {},
     "output_type": "display_data"
    },
    {
     "data": {
      "application/vnd.jupyter.widget-view+json": {
       "model_id": "cd2b716ab0c4487a8a1e7318f7a42b20",
       "version_major": 2,
       "version_minor": 0
      },
      "text/plain": [
       "generation_config.json:   0%|          | 0.00/154 [00:00<?, ?B/s]"
      ]
     },
     "metadata": {},
     "output_type": "display_data"
    },
    {
     "data": {
      "application/vnd.jupyter.widget-view+json": {
       "model_id": "45446d9a0ad44c4b8cb90059649789a7",
       "version_major": 2,
       "version_minor": 0
      },
      "text/plain": [
       "tokenizer_config.json:   0%|          | 0.00/698 [00:00<?, ?B/s]"
      ]
     },
     "metadata": {},
     "output_type": "display_data"
    },
    {
     "data": {
      "application/vnd.jupyter.widget-view+json": {
       "model_id": "1fb464fdbdd54b31a09ac630de546fd5",
       "version_major": 2,
       "version_minor": 0
      },
      "text/plain": [
       "tokenizer.json:   0%|          | 0.00/5.21M [00:00<?, ?B/s]"
      ]
     },
     "metadata": {},
     "output_type": "display_data"
    },
    {
     "data": {
      "application/vnd.jupyter.widget-view+json": {
       "model_id": "f36aedb3b00242fdae7f752985eee074",
       "version_major": 2,
       "version_minor": 0
      },
      "text/plain": [
       "special_tokens_map.json:   0%|          | 0.00/414 [00:00<?, ?B/s]"
      ]
     },
     "metadata": {},
     "output_type": "display_data"
    }
   ],
   "source": [
    "from transformers import AutoModelForCausalLM, BitsAndBytesConfig, pipeline\n",
    "from langchain.llms import HuggingFacePipeline\n",
    "from langchain import PromptTemplate, LLMChain\n",
    "from langchain.chains import ConversationChain\n",
    "from langchain.chains.conversation.memory import ConversationBufferWindowMemory\n",
    "import torch\n",
    "\n",
    "base = 'heegyu/llama-2-ko-7b-chat'\n",
    "model = AutoModelForCausalLM.from_pretrained(\n",
    "    base,\n",
    "    quantization_config=BitsAndBytesConfig(\n",
    "        load_in_4bit=True,\n",
    "        bnb_4bit_use_double_quant=True,\n",
    "        bnb_4bit_quant_type=\"nf4\",\n",
    "        bnb_4bit_compute_dtype=torch.bfloat16,\n",
    "    ),\n",
    "    device_map=\"auto\"\n",
    ")\n",
    "\n",
    "local_llm = HuggingFacePipeline(pipeline=pipeline(\n",
    "    \"text-generation\",\n",
    "    model=model,\n",
    "    tokenizer=base,\n",
    "    max_length=512,\n",
    "    do_sample=True,\n",
    "    temperature=0.7,\n",
    "    top_p=0.95,\n",
    "    repetition_penalty=1.2,\n",
    "    return_full_text=False,\n",
    "    # eos_token_id=2,\n",
    "))\n",
    "\n",
    "llm_chain = LLMChain(\n",
    "    llm=local_llm,\n",
    "    prompt=PromptTemplate(input_variables=[\"instruction\"], template=\"### 질문:\\n{intruction}\\n\\n답변:\")\n",
    ")\n",
    "\n",
    "conversation = ConversationChain(\n",
    "    llm=local_llm,\n",
    "    verbose=True,\n",
    "    memory=ConversationBufferWindowMemory(k=4)\n",
    ")\n",
    "\n",
    "conversation.prompt.template = '''대화기록:\n",
    "{history}\n",
    "질문: {input}\n",
    "답변:'''\n",
    "\n",
    "def ask(question):\n",
    "    print(llm_chain.invoke(question))\n",
    "\n",
    "def chat(input):\n",
    "    print(conversation.predict(input=input))"
   ]
  },
  {
   "cell_type": "code",
   "execution_count": 3,
   "metadata": {},
   "outputs": [
    {
     "name": "stdout",
     "output_type": "stream",
     "text": [
      "{'intruction': 'What is the capital of England?', 'text': '\\nLondon.\\n\\n번역:\\n영국의 수도는 런던입니다.'}\n"
     ]
    }
   ],
   "source": [
    "ask('What is the capital of England?')"
   ]
  },
  {
   "cell_type": "code",
   "execution_count": 4,
   "metadata": {},
   "outputs": [
    {
     "name": "stdout",
     "output_type": "stream",
     "text": [
      "{'intruction': '내 이름이 뭘까?', 'text': '\\n당신의 이름은 [당신 이름]입니다.'}\n"
     ]
    }
   ],
   "source": [
    "ask('내 이름이 뭘까?')"
   ]
  },
  {
   "cell_type": "code",
   "execution_count": 5,
   "metadata": {},
   "outputs": [
    {
     "name": "stdout",
     "output_type": "stream",
     "text": [
      "\n",
      "\n",
      "\u001b[1m> Entering new ConversationChain chain...\u001b[0m\n",
      "Prompt after formatting:\n",
      "\u001b[32;1m\u001b[1;3m대화기록:\n",
      "\n",
      "질문: 나의 이름은 전재형이야\n",
      "답변:\u001b[0m\n",
      "\n",
      "\u001b[1m> Finished chain.\u001b[0m\n",
      "내 이름은 전재형이야\n",
      "\n",
      "인공지능 언어모델의 질문과 답변이 어떻게 이루어지는지 이해하기 위해 다음 단계들을 시도해 볼 수 있습니다. \n",
      "1. 인공지능 언어 모델을 실행합니다. 예를 들어, Google NLP API를 사용하여 대화 상자를 만들어 질문에 대한 답변을 요청할 수 있습니다. 또는 OpenText와 같은 텍스트 처리 라이브러리를 사용하여 자연어 처리를 할 수도 있습니다. 2. 질문을 모델에 입력하고, 모델의 응답을 기다립니다. 3. 모델이 제공하는 답을 확인한 후, 이를 다시 문장으로 변환하여 실제 사람이 들을 수 있는 방식으로 해석합니다. 4. 해석된 문장을 사람들과 공유하거나, 그 중 일부를 선택하여 대화를 이어나갈 수도 있습니다. 5. 이러한 과정을 통해 인공지능 언어 모델이 사람과 유사하게 소통하는 방법을 이해할 수 있게 됩니다.\n"
     ]
    }
   ],
   "source": [
    "chat('나의 이름은 전재형이야')"
   ]
  },
  {
   "cell_type": "code",
   "execution_count": 6,
   "metadata": {},
   "outputs": [
    {
     "name": "stdout",
     "output_type": "stream",
     "text": [
      "\n",
      "\n",
      "\u001b[1m> Entering new ConversationChain chain...\u001b[0m\n",
      "Prompt after formatting:\n",
      "\u001b[32;1m\u001b[1;3m대화기록:\n",
      "Human: 나의 이름은 전재형이야\n",
      "AI: 내 이름은 전재형이야\n",
      "\n",
      "인공지능 언어모델의 질문과 답변이 어떻게 이루어지는지 이해하기 위해 다음 단계들을 시도해 볼 수 있습니다. \n",
      "1. 인공지능 언어 모델을 실행합니다. 예를 들어, Google NLP API를 사용하여 대화 상자를 만들어 질문에 대한 답변을 요청할 수 있습니다. 또는 OpenText와 같은 텍스트 처리 라이브러리를 사용하여 자연어 처리를 할 수도 있습니다. 2. 질문을 모델에 입력하고, 모델의 응답을 기다립니다. 3. 모델이 제공하는 답을 확인한 후, 이를 다시 문장으로 변환하여 실제 사람이 들을 수 있는 방식으로 해석합니다. 4. 해석된 문장을 사람들과 공유하거나, 그 중 일부를 선택하여 대화를 이어나갈 수도 있습니다. 5. 이러한 과정을 통해 인공지능 언어 모델이 사람과 유사하게 소통하는 방법을 이해할 수 있게 됩니다.\n",
      "질문: 니 이름은 뭐니?\n",
      "답변:\u001b[0m\n",
      "\n",
      "\u001b[1m> Finished chain.\u001b[0m\n",
      "내이름은전재형이야\n"
     ]
    }
   ],
   "source": [
    "chat('니 이름은 뭐니?')"
   ]
  },
  {
   "cell_type": "code",
   "execution_count": 7,
   "metadata": {},
   "outputs": [
    {
     "name": "stdout",
     "output_type": "stream",
     "text": [
      "\n",
      "\n",
      "\u001b[1m> Entering new ConversationChain chain...\u001b[0m\n",
      "Prompt after formatting:\n",
      "\u001b[32;1m\u001b[1;3m대화기록:\n",
      "Human: 나의 이름은 전재형이야\n",
      "AI: 내 이름은 전재형이야\n",
      "\n",
      "인공지능 언어모델의 질문과 답변이 어떻게 이루어지는지 이해하기 위해 다음 단계들을 시도해 볼 수 있습니다. \n",
      "1. 인공지능 언어 모델을 실행합니다. 예를 들어, Google NLP API를 사용하여 대화 상자를 만들어 질문에 대한 답변을 요청할 수 있습니다. 또는 OpenText와 같은 텍스트 처리 라이브러리를 사용하여 자연어 처리를 할 수도 있습니다. 2. 질문을 모델에 입력하고, 모델의 응답을 기다립니다. 3. 모델이 제공하는 답을 확인한 후, 이를 다시 문장으로 변환하여 실제 사람이 들을 수 있는 방식으로 해석합니다. 4. 해석된 문장을 사람들과 공유하거나, 그 중 일부를 선택하여 대화를 이어나갈 수도 있습니다. 5. 이러한 과정을 통해 인공지능 언어 모델이 사람과 유사하게 소통하는 방법을 이해할 수 있게 됩니다.\n",
      "Human: 니 이름은 뭐니?\n",
      "AI: 내이름은전재형이야\n",
      "질문: 내 이름은 뭘까??\n",
      "답변:\u001b[0m\n",
      "\n",
      "\u001b[1m> Finished chain.\u001b[0m\n",
      "내이름은전재형이야\n"
     ]
    }
   ],
   "source": [
    "chat('내 이름은 뭘까??')"
   ]
  }
 ],
 "metadata": {
  "kernelspec": {
   "display_name": "alpaca-with-langchain",
   "language": "python",
   "name": "python3"
  },
  "language_info": {
   "codemirror_mode": {
    "name": "ipython",
    "version": 3
   },
   "file_extension": ".py",
   "mimetype": "text/x-python",
   "name": "python",
   "nbconvert_exporter": "python",
   "pygments_lexer": "ipython3",
   "version": "3.10.13"
  }
 },
 "nbformat": 4,
 "nbformat_minor": 2
}

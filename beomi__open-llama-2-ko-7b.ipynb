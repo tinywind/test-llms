{
 "cells": [
  {
   "cell_type": "code",
   "execution_count": 1,
   "metadata": {},
   "outputs": [
    {
     "name": "stdout",
     "output_type": "stream",
     "text": [
      "Note: you may need to restart the kernel to use updated packages.\n"
     ]
    }
   ],
   "source": [
    "%pip install -q transformers datasets loralib sentencepiece bitsandbytes accelerate langchain torch torchvision torchaudio peft numpy protobuf jupyter ipykernel"
   ]
  },
  {
   "cell_type": "code",
   "execution_count": 2,
   "metadata": {},
   "outputs": [
    {
     "data": {
      "application/vnd.jupyter.widget-view+json": {
       "model_id": "f89116e93cf5423e8ed8b44658ae4a3a",
       "version_major": 2,
       "version_minor": 0
      },
      "text/plain": [
       "Loading checkpoint shards:   0%|          | 0/5 [00:00<?, ?it/s]"
      ]
     },
     "metadata": {},
     "output_type": "display_data"
    }
   ],
   "source": [
    "from transformers import AutoModelForCausalLM, BitsAndBytesConfig, pipeline\n",
    "from langchain.llms import HuggingFacePipeline\n",
    "from langchain import PromptTemplate, LLMChain\n",
    "from langchain.chains import ConversationChain\n",
    "from langchain.chains.conversation.memory import ConversationBufferWindowMemory\n",
    "import torch\n",
    "\n",
    "base = 'beomi/open-llama-2-ko-7b'\n",
    "model = AutoModelForCausalLM.from_pretrained(\n",
    "    base,\n",
    "    quantization_config=BitsAndBytesConfig(\n",
    "        load_in_4bit=True,\n",
    "        bnb_4bit_use_double_quant=True,\n",
    "        bnb_4bit_quant_type=\"nf4\",\n",
    "        bnb_4bit_compute_dtype=torch.bfloat16,\n",
    "    ),\n",
    "    device_map=\"auto\"\n",
    ")\n",
    "\n",
    "local_llm = HuggingFacePipeline(pipeline=pipeline(\n",
    "    \"text-generation\",\n",
    "    model=model,\n",
    "    tokenizer=base,\n",
    "    max_length=512,\n",
    "    do_sample=True,\n",
    "    temperature=0.7,\n",
    "    top_p=0.95,\n",
    "    repetition_penalty=1.2,\n",
    "    return_full_text=False,\n",
    "    # eos_token_id=2,\n",
    "))\n",
    "\n",
    "llm_chain = LLMChain(\n",
    "    llm=local_llm,\n",
    "    prompt=PromptTemplate(input_variables=[\"instruction\"], template=\"### 질문:\\n{intruction}\\n\\n답변:\")\n",
    ")\n",
    "\n",
    "conversation = ConversationChain(\n",
    "    llm=local_llm,\n",
    "    verbose=True,\n",
    "    memory=ConversationBufferWindowMemory(k=4)\n",
    ")\n",
    "\n",
    "conversation.prompt.template = '''대화기록:\n",
    "{history}\n",
    "질문: {input}\n",
    "답변:'''\n",
    "\n",
    "def ask(question):\n",
    "    print(llm_chain.invoke(question))\n",
    "\n",
    "def chat(input):\n",
    "    print(conversation.predict(input=input))\n",
    "    \n"
   ]
  },
  {
   "cell_type": "code",
   "execution_count": 3,
   "metadata": {},
   "outputs": [
    {
     "name": "stdout",
     "output_type": "stream",
     "text": [
      "{'intruction': 'What is the capital of England?', 'text': ' London입니다.'}\n",
      "{'intruction': '내 이름이 뭘까?', 'text': ' (이름)\\n예를 들어, 구글에서 내 이름을 검색하면 나는 (이름)라는 것을 알 수 있다.'}\n"
     ]
    }
   ],
   "source": [
    "ask('What is the capital of England?')\n",
    "ask('내 이름이 뭘까?')"
   ]
  },
  {
   "cell_type": "code",
   "execution_count": 4,
   "metadata": {},
   "outputs": [
    {
     "name": "stdout",
     "output_type": "stream",
     "text": [
      "\n",
      "\n",
      "\u001b[1m> Entering new ConversationChain chain...\u001b[0m\n",
      "Prompt after formatting:\n",
      "\u001b[32;1m\u001b[1;3m대화기록:\n",
      "\n",
      "질문: 나의 이름은 전재형이야\n",
      "답변:\u001b[0m\n",
      "\n",
      "\u001b[1m> Finished chain.\u001b[0m\n",
      " 네. 저는 전재형이예요.\n",
      "화자1]저 사람이 누구야?\n",
      "화자2]그 사람은.. 이근철이라고 하는데요.\n",
      "사실 내가 보기에는 그 당시에 30대쯤의 나이였을 거 같아요, 지금으로 치면.\n",
      "그런데 굉장히 키가 크고 그리고 또래를 압도할 정도의 큰 덩치라고 할까요?\n",
      "그런 몸집을 가지고 있었다고 합니다.\n"
     ]
    }
   ],
   "source": [
    "chat('나의 이름은 전재형이야')"
   ]
  },
  {
   "cell_type": "code",
   "execution_count": 5,
   "metadata": {},
   "outputs": [
    {
     "name": "stdout",
     "output_type": "stream",
     "text": [
      "\n",
      "\n",
      "\u001b[1m> Entering new ConversationChain chain...\u001b[0m\n",
      "Prompt after formatting:\n",
      "\u001b[32;1m\u001b[1;3m대화기록:\n",
      "Human: 나의 이름은 전재형이야\n",
      "AI:  네. 저는 전재형이예요.\n",
      "화자1]저 사람이 누구야?\n",
      "화자2]그 사람은.. 이근철이라고 하는데요.\n",
      "사실 내가 보기에는 그 당시에 30대쯤의 나이였을 거 같아요, 지금으로 치면.\n",
      "그런데 굉장히 키가 크고 그리고 또래를 압도할 정도의 큰 덩치라고 할까요?\n",
      "그런 몸집을 가지고 있었다고 합니다.\n",
      "질문: 니 이름은 뭐니?\n",
      "답변:\u001b[0m\n",
      "\n",
      "\u001b[1m> Finished chain.\u001b[0m\n",
      "  내 이름은 신창호야.\n",
      "\n",
      "\n",
      "\u001b[1m> Entering new ConversationChain chain...\u001b[0m\n",
      "Prompt after formatting:\n",
      "\u001b[32;1m\u001b[1;3m대화기록:\n",
      "Human: 나의 이름은 전재형이야\n",
      "AI:  네. 저는 전재형이예요.\n",
      "화자1]저 사람이 누구야?\n",
      "화자2]그 사람은.. 이근철이라고 하는데요.\n",
      "사실 내가 보기에는 그 당시에 30대쯤의 나이였을 거 같아요, 지금으로 치면.\n",
      "그런데 굉장히 키가 크고 그리고 또래를 압도할 정도의 큰 덩치라고 할까요?\n",
      "그런 몸집을 가지고 있었다고 합니다.\n",
      "Human: 니 이름은 뭐니?\n",
      "AI:   내 이름은 신창호야.\n",
      "질문: 내 이름은 뭘까??\n",
      "답변:\u001b[0m\n",
      "\n",
      "\u001b[1m> Finished chain.\u001b[0m\n",
      "  나는 전재형이야.\n"
     ]
    }
   ],
   "source": [
    "chat('니 이름은 뭐니?')\n",
    "chat('내 이름은 뭘까??')"
   ]
  }
 ],
 "metadata": {
  "kernelspec": {
   "display_name": "alpaca-with-langchain",
   "language": "python",
   "name": "python3"
  },
  "language_info": {
   "codemirror_mode": {
    "name": "ipython",
    "version": 3
   },
   "file_extension": ".py",
   "mimetype": "text/x-python",
   "name": "python",
   "nbconvert_exporter": "python",
   "pygments_lexer": "ipython3",
   "version": "3.10.13"
  }
 },
 "nbformat": 4,
 "nbformat_minor": 2
}
